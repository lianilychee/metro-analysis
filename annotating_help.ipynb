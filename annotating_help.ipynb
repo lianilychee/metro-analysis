{
 "cells": [
  {
   "cell_type": "code",
   "execution_count": 2,
   "metadata": {
    "collapsed": true
   },
   "outputs": [],
   "source": [
    "from __future__ import print_function, division\n",
    "\n",
    "%matplotlib inline\n",
    "\n",
    "import warnings\n",
    "warnings.filterwarnings('ignore')\n",
    "\n",
    "import matplotlib.pyplot as plt\n",
    "\n",
    "import networkx as nx\n",
    "import numpy as np\n",
    "import heapq\n",
    "\n",
    "# colors from our friends at http://colorbrewer2.org\n",
    "COLORS = ['#8dd3c7','#ffffb3','#bebada','#fb8072','#80b1d3','#fdb462',\n",
    "          '#b3de69','#fccde5','#d9d9d9','#bc80bd','#ccebc5','#ffed6f']"
   ]
  },
  {
   "cell_type": "markdown",
   "metadata": {},
   "source": [
    "## Example 1: Describing G.succ"
   ]
  },
  {
   "cell_type": "code",
   "execution_count": 3,
   "metadata": {
    "collapsed": false
   },
   "outputs": [
    {
     "data": {
      "text/plain": [
       "['a', 'c', 'b', 'e', 'd']"
      ]
     },
     "execution_count": 3,
     "metadata": {},
     "output_type": "execute_result"
    }
   ],
   "source": [
    "#Creating a simple directed graph with five nodes\n",
    "G = nx.DiGraph()\n",
    "nodes = ['a','b','c','d','e']\n",
    "G.add_nodes_from(nodes)\n",
    "G.nodes()"
   ]
  },
  {
   "cell_type": "code",
   "execution_count": 4,
   "metadata": {
    "collapsed": false
   },
   "outputs": [],
   "source": [
    "#Adding directed and weighted edges in the graph\n",
    "edges = {('a','b') : 15,\n",
    "        ('b','c'):12,\n",
    "        ('b','d'):11,\n",
    "        ('c','a'):10}\n",
    "G.add_edges_from(edges)\n",
    "# G.edges()"
   ]
  },
  {
   "cell_type": "code",
   "execution_count": 5,
   "metadata": {
    "collapsed": false
   },
   "outputs": [
    {
     "data": {
      "text/plain": [
       "(-1.0, 1.5, -1.5, 1.5)"
      ]
     },
     "execution_count": 5,
     "metadata": {},
     "output_type": "execute_result"
    },
    {
     "data": {
      "image/png": "[encoded data removed]",
      "text/plain": [
       "<matplotlib.figure.Figure at 0x10c716890>"
      ]
     },
     "metadata": {},
     "output_type": "display_data"
    }
   ],
   "source": [
    "#Displaying the graph\n",
    "nx.draw_circular(G, \n",
    "                 node_color=COLORS[0], \n",
    "                 node_size=2000, \n",
    "                 with_labels=True)\n",
    "plt.axis('equal')"
   ]
  },
  {
   "cell_type": "code",
   "execution_count": 6,
   "metadata": {
    "collapsed": false
   },
   "outputs": [
    {
     "name": "stdout",
     "output_type": "stream",
     "text": [
      "The full three-level dictionary, G.succ:  {'a': {'b': {}}, 'c': {'a': {}}, 'b': {'c': {}, 'd': {}}, 'e': {}, 'd': {}}\n",
      "The keys of G.succ which represent each node in the graph:  ['a', 'c', 'b', 'e', 'd']\n",
      "The dictionary of node b shows that node b is connected via a directed path to node c and d:  {'c': {}, 'd': {}}\n",
      "The dictionary of node e shows that it is not connected to anything:  {}\n"
     ]
    }
   ],
   "source": [
    "print(\"The full three-level dictionary, G.succ: \", G.succ)\n",
    "print(\"The keys of G.succ which represent each node in the graph: \", G.succ.keys())\n",
    "print(\"The dictionary of node b shows that node b is connected via a directed path to node c and d: \", G.succ['b'])\n",
    "print(\"The dictionary of node e shows that it is not connected to anything: \", G.succ['e'])"
   ]
  },
  {
   "cell_type": "markdown",
   "metadata": {},
   "source": [
    "## Example 2: Describing u, e in G_succ"
   ]
  },
  {
   "cell_type": "code",
   "execution_count": 7,
   "metadata": {
    "collapsed": false
   },
   "outputs": [
    {
     "name": "stdout",
     "output_type": "stream",
     "text": [
      "Looping for node: a\n",
      "u = b , e = {}\n",
      "Looping for node: c\n",
      "u = a , e = {}\n",
      "Looping for node: b\n",
      "u = c , e = {}\n",
      "u = d , e = {}\n",
      "Looping for node: e\n",
      "Looping for node: d\n"
     ]
    }
   ],
   "source": [
    "G_succ = G.succ\n",
    "for node in G.nodes():\n",
    "    print('Looping for node:', node)\n",
    "    for u, e in G_succ[node].items():\n",
    "        ## prints the node and then values for u and e\n",
    "        ## if the node is connected to 2 nodes (like node b), it prints two lines\n",
    "        print('u =', u, ', e =', e)"
   ]
  },
  {
   "cell_type": "code",
   "execution_count": 8,
   "metadata": {
    "collapsed": false
   },
   "outputs": [
    {
     "name": "stdout",
     "output_type": "stream",
     "text": [
      "Looping for node: a\n"
     ]
    },
    {
     "ename": "NameError",
     "evalue": "name 'weight' is not defined",
     "output_type": "error",
     "traceback": [
      "\u001b[0;31m---------------------------------------------------------------------------\u001b[0m",
      "\u001b[0;31mNameError\u001b[0m                                 Traceback (most recent call last)",
      "\u001b[0;32m<ipython-input-8-34e3c6028f09>\u001b[0m in \u001b[0;36m<module>\u001b[0;34m()\u001b[0m\n\u001b[1;32m      3\u001b[0m     \u001b[0;32mprint\u001b[0m\u001b[0;34m(\u001b[0m\u001b[0;34m'Looping for node:'\u001b[0m\u001b[0;34m,\u001b[0m \u001b[0mnode\u001b[0m\u001b[0;34m)\u001b[0m\u001b[0;34m\u001b[0m\u001b[0m\n\u001b[1;32m      4\u001b[0m     \u001b[0;32mfor\u001b[0m \u001b[0mu\u001b[0m\u001b[0;34m,\u001b[0m \u001b[0me\u001b[0m \u001b[0;32min\u001b[0m \u001b[0mG_succ\u001b[0m\u001b[0;34m[\u001b[0m\u001b[0mnode\u001b[0m\u001b[0;34m]\u001b[0m\u001b[0;34m.\u001b[0m\u001b[0mitems\u001b[0m\u001b[0;34m(\u001b[0m\u001b[0;34m)\u001b[0m\u001b[0;34m:\u001b[0m\u001b[0;34m\u001b[0m\u001b[0m\n\u001b[0;32m----> 5\u001b[0;31m         \u001b[0mcost\u001b[0m \u001b[0;34m=\u001b[0m \u001b[0mweight\u001b[0m\u001b[0;34m(\u001b[0m\u001b[0mv\u001b[0m\u001b[0;34m,\u001b[0m \u001b[0mu\u001b[0m\u001b[0;34m,\u001b[0m \u001b[0me\u001b[0m\u001b[0;34m)\u001b[0m\u001b[0;34m\u001b[0m\u001b[0m\n\u001b[0m\u001b[1;32m      6\u001b[0m \u001b[0;31m#             if cost is None:\u001b[0m\u001b[0;34m\u001b[0m\u001b[0;34m\u001b[0m\u001b[0m\n\u001b[1;32m      7\u001b[0m \u001b[0;31m#                 continue\u001b[0m\u001b[0;34m\u001b[0m\u001b[0;34m\u001b[0m\u001b[0m\n",
      "\u001b[0;31mNameError\u001b[0m: name 'weight' is not defined"
     ]
    }
   ],
   "source": [
    "G_succ = G.succ\n",
    "for node in G.nodes():\n",
    "    print('Looping for node:', node)\n",
    "    for u, e in G_succ[node].items():\n",
    "#         cost = weight(v, u, e)\n",
    "#             if cost is None:\n",
    "#                 continue\n",
    "#             vu_dist = dist[v] + cost\n",
    "#             if cutoff is not None:\n",
    "#                 if vu_dist > cutoff:\n",
    "#                     continue\n",
    "#             if u in dist:\n",
    "#                 if vu_dist < dist[u]:\n",
    "#                     raise ValueError('Contradictory paths found:',\n",
    "#                                      'negative weights?')\n",
    "#             elif u not in seen or vu_dist < seen[u]:\n",
    "#                 seen[u] = vu_dist\n",
    "#                 push(fringe, (vu_dist, next(c), u))\n",
    "#                 if paths is not None:\n",
    "#                     paths[u] = paths[v] + [u]\n",
    "#                 if pred is not None:\n",
    "#                     pred[u] = [v]\n",
    "#             elif vu_dist == seen[u]:\n",
    "#                 if pred is not None:\n",
    "#                     pred[u].append(v)"
   ]
  }
 ],
 "metadata": {
  "anaconda-cloud": {},
  "kernelspec": {
   "display_name": "Python [conda root]",
   "language": "python",
   "name": "conda-root-py"
  },
  "language_info": {
   "codemirror_mode": {
    "name": "ipython",
    "version": 2
   },
   "file_extension": ".py",
   "mimetype": "text/x-python",
   "name": "python",
   "nbconvert_exporter": "python",
   "pygments_lexer": "ipython2",
   "version": "2.7.12"
  }
 },
 "nbformat": 4,
 "nbformat_minor": 1
}
